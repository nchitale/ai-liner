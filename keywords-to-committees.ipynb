{
 "cells": [
  {
   "cell_type": "code",
   "execution_count": 51,
   "metadata": {},
   "outputs": [],
   "source": [
    "import pandas as pd\n",
    "import numpy as np\n",
    "from sklearn.linear_model import LinearRegression\n",
    "from sklearn.feature_extraction.text import TfidfVectorizer\n",
    "from sklearn.feature_selection import chi2\n",
    "from sklearn.model_selection import train_test_split\n",
    "from sklearn.feature_extraction.text import CountVectorizer\n",
    "from sklearn.feature_extraction.text import TfidfTransformer\n",
    "from sklearn.naive_bayes import MultinomialNB\n",
    "from sklearn.linear_model import LogisticRegression\n",
    "from sklearn.ensemble import RandomForestClassifier\n",
    "from sklearn.svm import LinearSVC\n",
    "from sklearn.model_selection import cross_val_score\n",
    "import matplotlib.pyplot as plt\n",
    "from io import StringIO\n",
    "import seaborn as sns\n",
    "import tabpy_client"
   ]
  },
  {
   "cell_type": "code",
   "execution_count": 52,
   "metadata": {},
   "outputs": [],
   "source": [
    "# Instructions to run this notebook:\n",
    "# Change path to that of your local machine.\n",
    "# Download the following datasets from fda.gov:\n",
    "# 1) pmn96cur.txt is the \"1996-current\" dataset from https://www.fda.gov/MedicalDevices/ProductsandMedicalProcedures/DeviceApprovalsandClearances/510kClearances/ucm089428.htm\n",
    "# 2) foiclass.txt is in \"foiclass.zip\" at https://www.fda.gov/MedicalDevices/DeviceRegulationandGuidance/Overview/ClassifyYourDevice/ucm051668.htm\n",
    "path = '/Users/nandini/Desktop/dvhacks/'\n",
    "devices = pd.read_csv('pmn96cur.txt', sep='\\|', engine='python')\n",
    "product_codes = pd.read_csv('foiclass.txt', sep='\\|', engine='python')"
   ]
  },
  {
   "cell_type": "code",
   "execution_count": 53,
   "metadata": {
    "scrolled": true
   },
   "outputs": [],
   "source": [
    "# Data cleaning\n",
    "product_codes = product_codes[['PRODUCTCODE', 'DEVICENAME']]\n",
    "devices = devices[['REVIEWADVISECOMM', 'PRODUCTCODE']]\n",
    "combined_df = pd.merge(devices, product_codes, on='PRODUCTCODE')\n",
    "col = ['REVIEWADVISECOMM', 'DEVICENAME']\n",
    "combined_df = combined_df[col]\n",
    "combined_df.columns = ['REVIEWADVISECOMM', 'DEVICENAME']\n",
    "combined_df['category_id'] = combined_df['REVIEWADVISECOMM'].factorize()[0]"
   ]
  },
  {
   "cell_type": "code",
   "execution_count": 54,
   "metadata": {
    "scrolled": true
   },
   "outputs": [],
   "source": [
    "# Vectorization of categorical data\n",
    "category_id_df = combined_df[['REVIEWADVISECOMM', 'category_id']].drop_duplicates().sort_values('category_id')\n",
    "category_to_id = dict(category_id_df.values)\n",
    "id_to_category = dict(category_id_df[['category_id', 'REVIEWADVISECOMM']].values)"
   ]
  },
  {
   "cell_type": "code",
   "execution_count": 55,
   "metadata": {},
   "outputs": [
    {
     "data": {
      "text/html": [
       "<div>\n",
       "<style scoped>\n",
       "    .dataframe tbody tr th:only-of-type {\n",
       "        vertical-align: middle;\n",
       "    }\n",
       "\n",
       "    .dataframe tbody tr th {\n",
       "        vertical-align: top;\n",
       "    }\n",
       "\n",
       "    .dataframe thead th {\n",
       "        text-align: right;\n",
       "    }\n",
       "</style>\n",
       "<table border=\"1\" class=\"dataframe\">\n",
       "  <thead>\n",
       "    <tr style=\"text-align: right;\">\n",
       "      <th></th>\n",
       "      <th>REVIEWADVISECOMM</th>\n",
       "      <th>DEVICENAME</th>\n",
       "      <th>category_id</th>\n",
       "    </tr>\n",
       "  </thead>\n",
       "  <tbody>\n",
       "    <tr>\n",
       "      <th>0</th>\n",
       "      <td>AN</td>\n",
       "      <td>Apparatus, Nitric Oxide Delivery</td>\n",
       "      <td>0</td>\n",
       "    </tr>\n",
       "    <tr>\n",
       "      <th>21</th>\n",
       "      <td>SU</td>\n",
       "      <td>Prosthesis, Tracheal, Expandable</td>\n",
       "      <td>1</td>\n",
       "    </tr>\n",
       "    <tr>\n",
       "      <th>58</th>\n",
       "      <td>GU</td>\n",
       "      <td>Stimulator,Peripheral Nerve,Non-Implanted,For ...</td>\n",
       "      <td>2</td>\n",
       "    </tr>\n",
       "    <tr>\n",
       "      <th>64</th>\n",
       "      <td>RA</td>\n",
       "      <td>Coil, Magnetic Resonance, Specialty</td>\n",
       "      <td>3</td>\n",
       "    </tr>\n",
       "    <tr>\n",
       "      <th>492</th>\n",
       "      <td>OR</td>\n",
       "      <td>Prosthesis, Elbow, Constrained, Cemented</td>\n",
       "      <td>4</td>\n",
       "    </tr>\n",
       "  </tbody>\n",
       "</table>\n",
       "</div>"
      ],
      "text/plain": [
       "    REVIEWADVISECOMM                                         DEVICENAME  \\\n",
       "0                 AN                   Apparatus, Nitric Oxide Delivery   \n",
       "21                SU                   Prosthesis, Tracheal, Expandable   \n",
       "58                GU  Stimulator,Peripheral Nerve,Non-Implanted,For ...   \n",
       "64                RA                Coil, Magnetic Resonance, Specialty   \n",
       "492               OR           Prosthesis, Elbow, Constrained, Cemented   \n",
       "\n",
       "     category_id  \n",
       "0              0  \n",
       "21             1  \n",
       "58             2  \n",
       "64             3  \n",
       "492            4  "
      ]
     },
     "execution_count": 55,
     "metadata": {},
     "output_type": "execute_result"
    }
   ],
   "source": [
    "# Ensure the dataset has unique product codes\n",
    "df = combined_df.drop_duplicates(subset='DEVICENAME')\n",
    "df.head()"
   ]
  },
  {
   "cell_type": "code",
   "execution_count": 56,
   "metadata": {},
   "outputs": [],
   "source": [
    "# Run tf-idf\n",
    "tfidf = TfidfVectorizer(sublinear_tf=True, min_df=1, norm='l2', encoding='latin-1', ngram_range=(1, 2), stop_words='english')"
   ]
  },
  {
   "cell_type": "code",
   "execution_count": 57,
   "metadata": {},
   "outputs": [],
   "source": [
    "features = tfidf.fit_transform(df.DEVICENAME).toarray()"
   ]
  },
  {
   "cell_type": "code",
   "execution_count": 58,
   "metadata": {},
   "outputs": [],
   "source": [
    "labels = df.category_id"
   ]
  },
  {
   "cell_type": "code",
   "execution_count": 59,
   "metadata": {},
   "outputs": [
    {
     "data": {
      "text/plain": [
       "(2796, 9675)"
      ]
     },
     "execution_count": 59,
     "metadata": {},
     "output_type": "execute_result"
    }
   ],
   "source": [
    "features.shape \n",
    "# Each of 2796 product codes is represented by 9675 features\n",
    "# Representing the tf-idf score for different unigrams and bigrams"
   ]
  },
  {
   "cell_type": "code",
   "execution_count": 60,
   "metadata": {},
   "outputs": [
    {
     "name": "stdout",
     "output_type": "stream",
     "text": [
      "# 'AN':\n",
      "  . Most correlated unigrams:\n",
      ". airway\n",
      ". oxygen\n",
      "  . Most correlated bigrams:\n",
      ". patient interface\n",
      ". analyzer gas\n",
      "# 'CH':\n",
      "  . Most correlated unigrams:\n",
      ". method\n",
      ". radioimmunoassay\n",
      "  . Most correlated bigrams:\n",
      ". cpk isoenzymes\n",
      ". clinical use\n",
      "# 'CV':\n",
      "  . Most correlated unigrams:\n",
      ". bypass\n",
      ". cardiopulmonary\n",
      "  . Most correlated bigrams:\n",
      ". blood pressure\n",
      ". cardiopulmonary bypass\n",
      "# 'DE':\n",
      "  . Most correlated unigrams:\n",
      ". orthodontic\n",
      ". dental\n",
      "  . Most correlated bigrams:\n",
      ". bone grafting\n",
      ". root canal\n",
      "# 'EN':\n",
      "  . Most correlated unigrams:\n",
      ". ent\n",
      ". hearing\n",
      "  . Most correlated bigrams:\n",
      ". nose throat\n",
      ". hearing aid\n",
      "# 'GU':\n",
      "  . Most correlated unigrams:\n",
      ". endoscope\n",
      ". dialysate\n",
      "  . Most correlated bigrams:\n",
      ". catheter hemodialysis\n",
      ". accessories flexible\n",
      "# 'HE':\n",
      "  . Most correlated unigrams:\n",
      ". cell\n",
      ". hemoglobin\n",
      "  . Most correlated bigrams:\n",
      ". control hemoglobin\n",
      ". occult blood\n",
      "# 'HO':\n",
      "  . Most correlated unigrams:\n",
      ". examination\n",
      ". infusion\n",
      "  . Most correlated bigrams:\n",
      ". examination glove\n",
      ". pump infusion\n",
      "# 'IM':\n",
      "  . Most correlated unigrams:\n",
      ". antiserum\n",
      ". antigen\n",
      "  . Most correlated bigrams:\n",
      ". antiserum control\n",
      ". antigen antiserum\n",
      "# 'MG':\n",
      "  . Most correlated unigrams:\n",
      ". abl1\n",
      ". bcr\n",
      "  . Most correlated bigrams:\n",
      ". monitoring test\n",
      ". abl1 monitoring\n",
      "# 'MI':\n",
      "  . Most correlated unigrams:\n",
      ". virus\n",
      ". nucleic\n",
      "  . Most correlated bigrams:\n",
      ". enzyme linked\n",
      ". nucleic acid\n",
      "# 'NE':\n",
      "  . Most correlated unigrams:\n",
      ". cranial\n",
      ". electroencephalograph\n",
      "  . Most correlated bigrams:\n",
      ". trephines accessories\n",
      ". pain relief\n",
      "# 'OB':\n",
      "  . Most correlated unigrams:\n",
      ". reproduction\n",
      ". uterine\n",
      "  . Most correlated bigrams:\n",
      ". pressure intrauterine\n",
      ". assisted reproduction\n",
      "# 'OP':\n",
      "  . Most correlated unigrams:\n",
      ". lens\n",
      ". ophthalmic\n",
      "  . Most correlated bigrams:\n",
      ". lens contact\n",
      ". ac powered\n",
      "# 'OR':\n",
      "  . Most correlated unigrams:\n",
      ". constrained\n",
      ". fixation\n",
      "  . Most correlated bigrams:\n",
      ". semi constrained\n",
      ". metal polymer\n",
      "# 'PA':\n",
      "  . Most correlated unigrams:\n",
      ". immunohistochemistry\n",
      ". chromosome\n",
      "  . Most correlated bigrams:\n",
      ". fish probe\n",
      ". probe kit\n",
      "# 'PM':\n",
      "  . Most correlated unigrams:\n",
      ". therapeutic\n",
      ". wheelchair\n",
      "  . Most correlated bigrams:\n",
      ". deep heat\n",
      ". applying therapeutic\n",
      "# 'RA':\n",
      "  . Most correlated unigrams:\n",
      ". radiographic\n",
      ". ray\n",
      "  . Most correlated bigrams:\n",
      ". radiographic film\n",
      ". radiation therapy\n",
      "# 'SU':\n",
      "  . Most correlated unigrams:\n",
      ". wound\n",
      ". surgical\n",
      "  . Most correlated bigrams:\n",
      ". dressing wound\n",
      ". mesh surgical\n",
      "# 'TX':\n",
      "  . Most correlated unigrams:\n",
      ". chromatography\n",
      ". immunoassay\n",
      "  . Most correlated bigrams:\n",
      ". layer chromatography\n",
      ". enzyme immunoassay\n"
     ]
    }
   ],
   "source": [
    "# Find terms most correlated with each advisory committee\n",
    "N = 2\n",
    "for REVIEWADVISECOMM, category_id in sorted(category_to_id.items()):\n",
    "    features_chi2 = chi2(features, labels == category_id)\n",
    "    indices = np.argsort(features_chi2[0])\n",
    "    feature_names = np.array(tfidf.get_feature_names())[indices]\n",
    "    unigrams = [v for v in feature_names if len(v.split(' ')) == 1]\n",
    "    bigrams = [v for v in feature_names if len(v.split(' ')) == 2]\n",
    "    print(\"# '{}':\".format(REVIEWADVISECOMM))\n",
    "    print(\"  . Most correlated unigrams:\\n. {}\".format('\\n. '.join(unigrams[-N:])))\n",
    "    print(\"  . Most correlated bigrams:\\n. {}\".format('\\n. '.join(bigrams[-N:])))"
   ]
  },
  {
   "cell_type": "code",
   "execution_count": 61,
   "metadata": {},
   "outputs": [],
   "source": [
    "# Linear SVC (most appropriate model as determined in committees.py)\n",
    "X_train, X_test, y_train, y_test = train_test_split(df['DEVICENAME'], df['REVIEWADVISECOMM'], random_state = 0)\n",
    "count_vect = CountVectorizer()\n",
    "X_train_counts = count_vect.fit_transform(X_train)\n",
    "tfidf_transformer = TfidfTransformer()\n",
    "X_train_tfidf = tfidf_transformer.fit_transform(X_train_counts)\n",
    "clf = LinearSVC().fit(X_train_tfidf, y_train)"
   ]
  },
  {
   "cell_type": "code",
   "execution_count": null,
   "metadata": {},
   "outputs": [],
   "source": [
    "# Function that takes in a medical keyword and outputs the most associated FDA committee\n",
    "def DevicesDemo(keyword):\n",
    "    committee = clf.predict(count_vect.transform([keyword]))\n",
    "    return(committee)"
   ]
  },
  {
   "cell_type": "code",
   "execution_count": null,
   "metadata": {},
   "outputs": [],
   "source": [
    "# Example: the keyword \"wearable\" is most associated with the \"CV\" (Cardiovascular) FDA committee\n",
    "print(DevicesDemo(\"wearable\"))"
   ]
  },
  {
   "cell_type": "code",
   "execution_count": null,
   "metadata": {},
   "outputs": [],
   "source": [
    "# Connect to TabPy server using the client library\n",
    "connection = tabpy_client.Client('http://localhost:9004/')"
   ]
  },
  {
   "cell_type": "code",
   "execution_count": null,
   "metadata": {},
   "outputs": [],
   "source": [
    "# Publish the DevicesDemo function to TabPy server so it can be used from Tableau\n",
    "connection.deploy('DevicesDemo', DevicesDemo, 'Suggests an FDA Advisory Committee based on a medical keyword', override = True)"
   ]
  }
 ],
 "metadata": {
  "kernelspec": {
   "display_name": "Python 3",
   "language": "python",
   "name": "python3"
  },
  "language_info": {
   "codemirror_mode": {
    "name": "ipython",
    "version": 3
   },
   "file_extension": ".py",
   "mimetype": "text/x-python",
   "name": "python",
   "nbconvert_exporter": "python",
   "pygments_lexer": "ipython3",
   "version": "3.7.0"
  }
 },
 "nbformat": 4,
 "nbformat_minor": 2
}
